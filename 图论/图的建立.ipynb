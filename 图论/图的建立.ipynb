{
 "cells": [
  {
   "cell_type": "markdown",
   "metadata": {},
   "source": [
    "## 定义节点类"
   ]
  },
  {
   "cell_type": "markdown",
   "metadata": {},
   "source": [
    "节点应该有:\n",
    "\n",
    "属性:\n",
    "- 每个节点的名称\n",
    "- 与别的节点的连接情况,储存在字典中\n",
    "\n",
    "方法:\n",
    "- 返回所有的连接情况\n",
    "- 返回自身id\n",
    "- 返回与某个节点的边权\n",
    "- 新增边权"
   ]
  },
  {
   "cell_type": "code",
   "execution_count": 37,
   "metadata": {},
   "outputs": [],
   "source": [
    "from typing import List, Optional, Set\n",
    "\n",
    "\n",
    "class Vertex:\n",
    "    def __init__(self,id:int) -> None:\n",
    "        self.__id:int = id\n",
    "        self.__connectedTo = {} # 创建节点并不需要给他边权\n",
    "\n",
    "    def add_neighbor(self,nbr:'Vertex',weight:float=0)->None:\n",
    "        self.__connectedTo[nbr] = weight\n",
    "\n",
    "    def get_id(self)->int:\n",
    "        return self.__id\n",
    "\n",
    "    def get_connections(self)->Optional[Set['Vertex']]:\n",
    "        return self.__connectedTo.keys()\n",
    "\n",
    "    def get_weight(self,nbr:'Vertex')->float:\n",
    "        return self.__connectedTo[nbr]\n"
   ]
  },
  {
   "cell_type": "markdown",
   "metadata": {},
   "source": [
    "## 定义图类"
   ]
  },
  {
   "cell_type": "markdown",
   "metadata": {},
   "source": [
    "图类应有如下属性:\n",
    "- 储存所有节点的字典,字典的值用来指向节点Vertex的\n",
    "- 节点数量\n",
    "\n",
    "如下方法:\n",
    "- 新增节点\n",
    "- 返回节点\n",
    "- 查询某个节点是否在该图中\n",
    "- 给某两个节点增加连接\n",
    "- 返回节点数量\n",
    "\n",
    "同时,让该图类可迭代.即可通过for...in...来访问该Graph中的所有Vertex"
   ]
  },
  {
   "cell_type": "code",
   "execution_count": 42,
   "metadata": {},
   "outputs": [],
   "source": [
    "class Graph:\n",
    "    def __init__(self) -> None:\n",
    "        self.__vert_list:dict[int,Vertex] = {}\n",
    "        self.__vert_num:int = 0\n",
    "\n",
    "    def add_vertex(self,id:int)->None:\n",
    "        self.__vert_num += 1\n",
    "        new_vertex = Vertex(id)\n",
    "        self.__vert_list[id] = new_vertex\n",
    "\n",
    "    def get_vertex(self,id:int)->Optional[Vertex]:\n",
    "        if id in self.__vert_list:\n",
    "            return self.__vert_list[id]\n",
    "        else:\n",
    "            return None\n",
    "\n",
    "    def __contains__(self,id):\n",
    "        return id in self.__vert_list\n",
    "\n",
    "    def add_edge(self,from_vert:int,to_vert:int,weight:float)->None:\n",
    "        if from_vert not in self.__vert_list:\n",
    "            self.add_vertex(from_vert)\n",
    "        if to_vert not in self.__vert_list:\n",
    "            self.add_vertex(to_vert)\n",
    "        self.__vert_list[from_vert].add_neighbor(self.__vert_list[to_vert],weight)\n",
    "\n",
    "    @property\n",
    "    def num(self):\n",
    "        return self.__vert_num\n",
    "\n",
    "    def __iter__(self)->Vertex:\n",
    "        return iter(self.__vert_list.values())"
   ]
  },
  {
   "cell_type": "markdown",
   "metadata": {},
   "source": [
    "## 实例化检验"
   ]
  },
  {
   "cell_type": "code",
   "execution_count": 43,
   "metadata": {},
   "outputs": [
    {
     "data": {
      "text/plain": [
       "{0: <__main__.Vertex at 0x20de5631fc0>,\n",
       " 1: <__main__.Vertex at 0x20de5632ef0>,\n",
       " 2: <__main__.Vertex at 0x20de5633400>,\n",
       " 3: <__main__.Vertex at 0x20de5633130>,\n",
       " 4: <__main__.Vertex at 0x20de5633370>,\n",
       " 5: <__main__.Vertex at 0x20de5633520>}"
      ]
     },
     "execution_count": 43,
     "metadata": {},
     "output_type": "execute_result"
    }
   ],
   "source": [
    "g = Graph()\n",
    "for i in range(6):\n",
    "    g.add_vertex(i)\n",
    "g._Graph__vert_list"
   ]
  },
  {
   "cell_type": "markdown",
   "metadata": {},
   "source": [
    " 添加边"
   ]
  },
  {
   "cell_type": "code",
   "execution_count": 44,
   "metadata": {},
   "outputs": [],
   "source": [
    "g.add_edge(0,1,5)\n",
    "g.add_edge(0,5,2)\n",
    "g.add_edge(1,2,4)\n",
    "g.add_edge(2,3,9)\n",
    "g.add_edge(3,4,7)\n",
    "g.add_edge(3,5,3)\n",
    "g.add_edge(4,0,1)\n",
    "g.add_edge(5,4,8)\n",
    "g.add_edge(5,2,1)"
   ]
  },
  {
   "cell_type": "code",
   "execution_count": 45,
   "metadata": {},
   "outputs": [
    {
     "name": "stdout",
     "output_type": "stream",
     "text": [
      "(0,1,5)\n",
      "(0,5,2)\n",
      "(1,2,4)\n",
      "(2,3,9)\n",
      "(3,4,7)\n",
      "(3,5,3)\n",
      "(4,0,1)\n",
      "(5,4,8)\n",
      "(5,2,1)\n"
     ]
    }
   ],
   "source": [
    "for v in g:\n",
    "    for w in v.get_connections():\n",
    "        print(f\"({v.get_id()},{w.get_id()},{v.get_weight(w)})\")"
   ]
  },
  {
   "cell_type": "markdown",
   "metadata": {},
   "source": [
    "bing go"
   ]
  }
 ],
 "metadata": {
  "kernelspec": {
   "display_name": "Python 3.10.0 64-bit",
   "language": "python",
   "name": "python3"
  },
  "language_info": {
   "codemirror_mode": {
    "name": "ipython",
    "version": 3
   },
   "file_extension": ".py",
   "mimetype": "text/x-python",
   "name": "python",
   "nbconvert_exporter": "python",
   "pygments_lexer": "ipython3",
   "version": "3.10.0"
  },
  "orig_nbformat": 4,
  "vscode": {
   "interpreter": {
    "hash": "223bd7061210f9026212db00e2af3a04b24a752f8760dfb4b65dd6349c006262"
   }
  }
 },
 "nbformat": 4,
 "nbformat_minor": 2
}
