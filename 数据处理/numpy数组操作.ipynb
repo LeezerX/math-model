{
 "cells": [
  {
   "cell_type": "code",
   "execution_count": 1,
   "metadata": {},
   "outputs": [],
   "source": [
    "import numpy as np"
   ]
  },
  {
   "cell_type": "markdown",
   "metadata": {},
   "source": [
    "## 数组拼接"
   ]
  },
  {
   "cell_type": "code",
   "execution_count": 2,
   "metadata": {},
   "outputs": [
    {
     "name": "stdout",
     "output_type": "stream",
     "text": [
      "[1 2 3 4 5 6]\n",
      "[[1 2 3]\n",
      " [4 5 6]]\n",
      "[1 2 3 4 5 6]\n"
     ]
    },
    {
     "ename": "AxisError",
     "evalue": "axis 1 is out of bounds for array of dimension 1",
     "output_type": "error",
     "traceback": [
      "\u001b[1;31m---------------------------------------------------------------------------\u001b[0m",
      "\u001b[1;31mAxisError\u001b[0m                                 Traceback (most recent call last)",
      "\u001b[1;32me:\\xun\\Documents\\Notes\\math-model\\数据处理\\numpy数组操作.ipynb Cell 3\u001b[0m in \u001b[0;36m<module>\u001b[1;34m\u001b[0m\n\u001b[0;32m      <a href='vscode-notebook-cell:/e%3A/xun/Documents/Notes/math-model/%E6%95%B0%E6%8D%AE%E5%A4%84%E7%90%86/numpy%E6%95%B0%E7%BB%84%E6%93%8D%E4%BD%9C.ipynb#ch0000002?line=5'>6</a>\u001b[0m \u001b[39mprint\u001b[39m(np\u001b[39m.\u001b[39mvstack((x,y)))\n\u001b[0;32m      <a href='vscode-notebook-cell:/e%3A/xun/Documents/Notes/math-model/%E6%95%B0%E6%8D%AE%E5%A4%84%E7%90%86/numpy%E6%95%B0%E7%BB%84%E6%93%8D%E4%BD%9C.ipynb#ch0000002?line=6'>7</a>\u001b[0m \u001b[39mprint\u001b[39m(np\u001b[39m.\u001b[39mconcatenate((x,y),axis\u001b[39m=\u001b[39m\u001b[39m0\u001b[39m)) \u001b[39m# axis用于指定轴\u001b[39;00m\n\u001b[1;32m----> <a href='vscode-notebook-cell:/e%3A/xun/Documents/Notes/math-model/%E6%95%B0%E6%8D%AE%E5%A4%84%E7%90%86/numpy%E6%95%B0%E7%BB%84%E6%93%8D%E4%BD%9C.ipynb#ch0000002?line=7'>8</a>\u001b[0m \u001b[39mprint\u001b[39m(np\u001b[39m.\u001b[39;49mconcatenate((x,y),axis\u001b[39m=\u001b[39;49m\u001b[39m1\u001b[39;49m))\n",
      "File \u001b[1;32m<__array_function__ internals>:5\u001b[0m, in \u001b[0;36mconcatenate\u001b[1;34m(*args, **kwargs)\u001b[0m\n",
      "\u001b[1;31mAxisError\u001b[0m: axis 1 is out of bounds for array of dimension 1"
     ]
    }
   ],
   "source": [
    "x = np.array([1,2,3])\n",
    "y = np.array([4,5,6])\n",
    "\n",
    "# 以下三种方法都会返回一个新的数组\n",
    "print(np.hstack((x,y)))\n",
    "print(np.vstack((x,y)))\n",
    "print(np.concatenate((x,y),axis=0)) # axis用于指定轴\n",
    "print(np.concatenate((x,y),axis=1))"
   ]
  },
  {
   "cell_type": "markdown",
   "metadata": {},
   "source": [
    "可见,concateante函数不能将两个行向量拼接成一个矩阵,只能靠vstake函数完成此操作"
   ]
  }
 ],
 "metadata": {
  "kernelspec": {
   "display_name": "Python 3.10.0 64-bit",
   "language": "python",
   "name": "python3"
  },
  "language_info": {
   "codemirror_mode": {
    "name": "ipython",
    "version": 3
   },
   "file_extension": ".py",
   "mimetype": "text/x-python",
   "name": "python",
   "nbconvert_exporter": "python",
   "pygments_lexer": "ipython3",
   "version": "3.10.0"
  },
  "orig_nbformat": 4,
  "vscode": {
   "interpreter": {
    "hash": "223bd7061210f9026212db00e2af3a04b24a752f8760dfb4b65dd6349c006262"
   }
  }
 },
 "nbformat": 4,
 "nbformat_minor": 2
}
